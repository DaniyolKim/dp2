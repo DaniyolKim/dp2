{
  "nbformat": 4,
  "nbformat_minor": 0,
  "metadata": {
    "colab": {
      "name": "dp2_RandomForest.ipynb",
      "private_outputs": true,
      "provenance": [],
      "collapsed_sections": [],
      "include_colab_link": true
    },
    "kernelspec": {
      "name": "python3",
      "display_name": "Python 3"
    },
    "language_info": {
      "name": "python"
    }
  },
  "cells": [
    {
      "cell_type": "markdown",
      "metadata": {
        "id": "view-in-github",
        "colab_type": "text"
      },
      "source": [
        "<a href=\"https://colab.research.google.com/github/DaniyolKim/dp2/blob/main/dp2_RandomForest.ipynb\" target=\"_parent\"><img src=\"https://colab.research.google.com/assets/colab-badge.svg\" alt=\"Open In Colab\"/></a>"
      ]
    },
    {
      "cell_type": "code",
      "metadata": {
        "id": "pYGUFJWh58df"
      },
      "source": [
        "#!sudo apt-get install -y fonts-nanum\n",
        "#!sudo fc-cache -fv\n",
        "#!rm ~/.cache/matplotlib -rf"
      ],
      "execution_count": null,
      "outputs": []
    },
    {
      "cell_type": "code",
      "metadata": {
        "id": "3JPIyfMBWeua"
      },
      "source": [
        "import datetime\n",
        "import io\n",
        "import pandas as pd\n",
        "import numpy as np\n",
        "import matplotlib.pyplot as plt\n",
        "import seaborn as sns\n"
      ],
      "execution_count": null,
      "outputs": []
    },
    {
      "cell_type": "code",
      "metadata": {
        "id": "Ply4u4Ask4K-"
      },
      "source": [
        "# DATA 정리\n",
        "df = pd.read_csv('https://raw.githubusercontent.com/DaniyolKim/dp2/main/result.csv')\n",
        "df.rename(columns= {\n",
        "    'Unnamed: 0':'time',\n",
        "    }, inplace=True)\n",
        "df['time'] = pd.to_datetime(df['time'], format='%Y-%m-%d')\n",
        "df[\"year\"] = df[\"time\"].dt.year\n",
        "df[\"month\"] = df[\"time\"].dt.month\n",
        "df[\"day\"] = df[\"time\"].dt.day\n",
        "df[\"hour\"] = df[\"time\"].dt.hour\n",
        "df[\"dayofweek\"] = df[\"time\"].dt.dayofweek\n",
        "\n",
        "notWorkingDays = [datetime.datetime(2019,1,1),\n",
        "                  datetime.datetime(2019,2,4),\n",
        "                  datetime.datetime(2019,2,5),\n",
        "                  datetime.datetime(2019,2,6),\n",
        "                  datetime.datetime(2019,3,1),\n",
        "                  datetime.datetime(2019,5,5),\n",
        "                  datetime.datetime(2019,5,12),\n",
        "                  datetime.datetime(2019,6,6),\n",
        "                  datetime.datetime(2019,8,15),\n",
        "                  datetime.datetime(2019,9,12),\n",
        "                  datetime.datetime(2019,9,13),\n",
        "                  datetime.datetime(2019,9,14),\n",
        "                  datetime.datetime(2019,10,3),\n",
        "                  datetime.datetime(2019,10,9),\n",
        "                  datetime.datetime(2019,12,25),\n",
        "                  \n",
        "                  datetime.datetime(2020,1,1),\n",
        "                  datetime.datetime(2020,1,24),\n",
        "                  datetime.datetime(2020,1,25),\n",
        "                  datetime.datetime(2020,1,26),\n",
        "                  datetime.datetime(2020,3,1),\n",
        "                  datetime.datetime(2020,4,30),\n",
        "                  datetime.datetime(2020,5,5),\n",
        "                  datetime.datetime(2020,6,6),\n",
        "                  datetime.datetime(2020,8,15),\n",
        "                  datetime.datetime(2020,8,17),\n",
        "                  datetime.datetime(2020,9,30),\n",
        "                  datetime.datetime(2020,10,1),\n",
        "                  datetime.datetime(2020,10,2),\n",
        "                  datetime.datetime(2020,10,3),\n",
        "                  datetime.datetime(2020,10,9),\n",
        "                  datetime.datetime(2020,12,25),\n",
        "\n",
        "                  datetime.datetime(2021,1,1),\n",
        "                  datetime.datetime(2020,2,11),\n",
        "                  datetime.datetime(2020,2,12),\n",
        "                  datetime.datetime(2020,2,13),\n",
        "                  datetime.datetime(2020,3,1),\n",
        "                  datetime.datetime(2020,5,5),\n",
        "                  datetime.datetime(2020,5,19),\n",
        "                  datetime.datetime(2020,6,6),\n",
        "                  datetime.datetime(2020,8,15),\n",
        "                  datetime.datetime(2020,9,20),\n",
        "                  datetime.datetime(2020,9,21),\n",
        "                  datetime.datetime(2020,9,22),\n",
        "                  datetime.datetime(2020,10,3),\n",
        "                  datetime.datetime(2020,10,9),\n",
        "                  datetime.datetime(2020,12,25),\n",
        "                  ]\n",
        "\n",
        "def IsHoliday(d):\n",
        "  for notWorkingDay in notWorkingDays:\n",
        "    if (d.year == notWorkingDay.year and d.month == notWorkingDay.month and d.day == notWorkingDay.day) :\n",
        "      return 1\n",
        "  return 0\n",
        "\n",
        "df['holiday'] = df['time'].apply(IsHoliday)\n",
        "\n",
        "rainTypeDatas = pd.get_dummies(df['rain_type'])\n",
        "df = df.join(rainTypeDatas.drop('None', axis=1))\n",
        "\n",
        "df = df.drop('rain_type', axis = 1)\n",
        "df = df.drop('time', axis = 1)\n",
        "df\n"
      ],
      "execution_count": null,
      "outputs": []
    },
    {
      "cell_type": "code",
      "metadata": {
        "id": "Vt7MXP-T2EPU"
      },
      "source": [
        "# 스케일링좀 해보자\n",
        "from sklearn.preprocessing import StandardScaler\n",
        "scaler = StandardScaler()\n",
        "df[['hum', 'rain_fall', 'temp', 'wind_dir', 'wind_pwr']] = scaler.fit_transform(df[['hum', 'rain_fall', 'temp', 'wind_dir', 'wind_pwr']])\n",
        "\n",
        "df.corr().round(3)"
      ],
      "execution_count": null,
      "outputs": []
    },
    {
      "cell_type": "code",
      "metadata": {
        "id": "Tz9PTEE95w-Y"
      },
      "source": [
        "# 랜덤 포레스트 한번 돌려보자...\n",
        "\n",
        "from sklearn.ensemble import RandomForestRegressor\n",
        "from sklearn.model_selection import train_test_split\n",
        "\n",
        "features = ['hum', 'rain_fall', 'temp', 'wind_dir', 'wind_pwr', 'year',\n",
        "       'month', 'day', 'hour', 'dayofweek', 'holiday', 'Rain', 'Rain/Snow',\n",
        "       'Snow']\n",
        "\n",
        "X = df[features].values\n",
        "y = df['elec'].values\n",
        "X_train, X_test, y_train, y_test = train_test_split(X, y)\n",
        "\n",
        "model = RandomForestRegressor(n_estimators= 100)\n",
        "model.fit(X_train, y_train)\n",
        "model.score(X_test, y_test) # R2"
      ],
      "execution_count": null,
      "outputs": []
    },
    {
      "cell_type": "code",
      "metadata": {
        "id": "lCKuDzrw7t_f"
      },
      "source": [
        "# 주요 특성 변수 뽑아보자\n",
        "def feature_importances_fig(features, importances):\n",
        "    df = pd.DataFrame({'feature':features,'importance':importances})\n",
        "    df = df.sort_values('importance', ascending=False)\n",
        "    ypos = np.arange(len(df.feature))\n",
        "\n",
        "    plt.figure(figsize=(6,4))\n",
        "    plt.barh(df.feature, df.importance)\n",
        "    plt.yticks(ypos, df.feature)\n",
        "    plt.xlabel('Importance')\n",
        "    plt.ylabel('Variable')\n",
        "    plt.xlim(0, 1)\n",
        "    plt.ylim(-1, len(df.feature))\n",
        "    plt.show()\n",
        "\n",
        "feature_importances_fig(features, model.feature_importances_)"
      ],
      "execution_count": null,
      "outputs": []
    },
    {
      "cell_type": "code",
      "metadata": {
        "id": "OEAUJScO75WR"
      },
      "source": [
        "#시각화 해보자\n",
        "from sklearn.metrics import r2_score\n",
        "\n",
        "def plot_y_pred(y_test, y_pred):\n",
        "    plt.figure(figsize=(8, 5))\n",
        "    plt.plot(y_test, c='r')\n",
        "    plt.plot(y_pred, c='b')\n",
        "    plt.show()\n",
        "    print(\"R2=\", r2_score(y_test, y_pred).round(3))\n",
        "    error = abs(y_test - y_pred)\n",
        "    print(\"MAE=\", error.mean().round(3))\n",
        "    print(\"rmse=\", np.sqrt((error**2).mean()).round(3))\n",
        "    print(\"max=\", max(error).round(3))\n",
        "\n",
        "def scatter_errors(y_test, y_pred):\n",
        "    error = abs(y_test - y_pred)\n",
        "    plt.scatter(y_test, error, s=2)\n",
        "\n",
        "y_pred = model.predict(X_test)\n",
        "plot_y_pred(y_test[:100], y_pred[:100])"
      ],
      "execution_count": null,
      "outputs": []
    },
    {
      "cell_type": "code",
      "metadata": {
        "id": "zV6OEq5cCxic"
      },
      "source": [
        "# 일기 예보가 없는 상황\n",
        "\n",
        "features = ['year','month', 'day', 'hour', 'dayofweek', 'holiday']\n",
        "\n",
        "X = df[features].values\n",
        "y = df['elec'].values\n",
        "X_train, X_test, y_train, y_test = train_test_split(X, y)\n",
        "\n",
        "model = RandomForestRegressor(n_estimators= 100)\n",
        "model.fit(X_train, y_train)\n",
        "model.score(X_test, y_test) # R2"
      ],
      "execution_count": null,
      "outputs": []
    },
    {
      "cell_type": "code",
      "metadata": {
        "id": "K1FcJ4XlDOLT"
      },
      "source": [
        "# 주요특성\n",
        "feature_importances_fig(features, model.feature_importances_)"
      ],
      "execution_count": null,
      "outputs": []
    },
    {
      "cell_type": "code",
      "metadata": {
        "id": "loBbyAO-DTWj"
      },
      "source": [
        "# 시각화\n",
        "y_pred = model.predict(X_test)\n",
        "plot_y_pred(y_test[:100], y_pred[:100])"
      ],
      "execution_count": null,
      "outputs": []
    }
  ]
}